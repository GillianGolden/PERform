{
 "cells": [
  {
   "cell_type": "code",
   "execution_count": null,
   "metadata": {
    "collapsed": true
   },
   "outputs": [],
   "source": [
    "import pandas as pd\n",
    "import numpy as np\n",
    "import random\n",
    "import math\n",
    "import gc\n",
    "from simpledbf import Dbf5\n",
    "from pandas import DataFrame"
   ]
  },
  {
   "cell_type": "markdown",
   "metadata": {},
   "source": [
    "### Open dbf files and convert to dataframes for processing"
   ]
  },
  {
   "cell_type": "code",
   "execution_count": null,
   "metadata": {
    "collapsed": true
   },
   "outputs": [],
   "source": [
    "Student_DBF = Dbf5('c:\\DATA\\Reduc2.dbf')\n",
    "School_DBF = Dbf5('c:\\DATA\\RNEW1.dbf')\n",
    "#Student_DBF = Dbf5('c:\\DATA\\SMA0KM.dbf')"
   ]
  },
  {
   "cell_type": "code",
   "execution_count": null,
   "metadata": {
    "collapsed": true
   },
   "outputs": [],
   "source": [
    "School_frame = School_DBF.to_dataframe()\n",
    "Student_frame = Student_DBF.to_dataframe()"
   ]
  },
  {
   "cell_type": "code",
   "execution_count": null,
   "metadata": {
    "collapsed": true
   },
   "outputs": [],
   "source": [
    "grouped_school = School_frame.groupby('CSOED_1')"
   ]
  },
  {
   "cell_type": "markdown",
   "metadata": {},
   "source": [
    "### Define Functions"
   ]
  },
  {
   "cell_type": "code",
   "execution_count": null,
   "metadata": {
    "collapsed": true
   },
   "outputs": [],
   "source": [
    "def YvsS(Y_Solution, N_Solution):\n",
    "    global Added_Records\n",
    "    Added_Records = False\n",
    "    Y_Small_Area = float(Y_Solution['Small_Area'])\n",
    "    Y_Details = float(Y_Solution['Details'])\n",
    "    N_Small_Area = float(N_Solution['Small_Area'])\n",
    "    N_Details = float(N_Solution['Details'])\n",
    "    \n",
    "    if (Y_Small_Area >= N_Small_Area or Y_Details <= N_Details):\n",
    "        return True"
   ]
  },
  {
   "cell_type": "code",
   "execution_count": null,
   "metadata": {
    "collapsed": true
   },
   "outputs": [],
   "source": [
    "def UpdateM(N_Solutions, temp_M_Solutions):\n",
    "    \n",
    "    for index, row in N_Solutions.iterrows():\n",
    "        Insert = True\n",
    "        if len(temp_M_Solutions.index) == 0:\n",
    "            temp_M_Solutions = temp_M_Solutions.append(N_Solutions.loc[N_Solutions['Counter'] == row['Counter']])\n",
    "        else:\n",
    "            for index2, row2 in temp_M_Solutions.iterrows():\n",
    "                if (row['Small_Area'] >= row2['Small_Area'] and row['Details'] <= row2['Details']): \n",
    "                    temp_M_Solutions = temp_M_Solutions[temp_M_Solutions.Counter != row2['Counter']]\n",
    "            for index2, row2 in temp_M_Solutions.iterrows(): \n",
    "                if (row['Small_Area'] <= row2['Small_Area'] and row['Details'] >= row2['Details']):\n",
    "                    Insert = False\n",
    "            if Insert: \n",
    "                temp_M_Solutions = temp_M_Solutions.append(N_Solutions.loc[N_Solutions['Counter'] == row['Counter']])\n",
    "                Added_Records = True\n",
    "    return temp_M_Solutions\n",
    "    "
   ]
  },
  {
   "cell_type": "code",
   "execution_count": null,
   "metadata": {
    "collapsed": true
   },
   "outputs": [],
   "source": [
    "def swap_one():\n",
    "    \n",
    "    Modified_Random_Selection = pd.DataFrame()\n",
    "    merged = EDSelected_Students.merge(Y_Selection, how='left', indicator=True)\n",
    "    EDAvailable_Students = merged[merged['_merge']=='left_only']\n",
    "    EDAvailable_Students = EDAvailable_Students.drop('_merge', 1)\n",
    "    groups = Y_Selection.groupby('ROLL_NO')\n",
    "    for ROLL_NO, group in groups:\n",
    "        Available_Students = EDAvailable_Students.loc[EDAvailable_Students['ROLL_NO'] == ROLL_NO]\n",
    "        Selection = Y_Selection.loc[Y_Selection['ROLL_NO'] == ROLL_NO]\n",
    "        drop_index = np.random.choice(Selection.index, 1, replace=False)\n",
    "        if len(Available_Students.index) > 0:\n",
    "            Random_Selection = Selection.drop(drop_index)\n",
    "            New1 = Available_Students.sample(n=1)\n",
    "            Random_Selection = Random_Selection.append(New1)\n",
    "            Modified_Random_Selection = Modified_Random_Selection.append(Random_Selection)\n",
    "        else:\n",
    "            Modified_Random_Selection = Modified_Random_Selection.append(Selection)\n",
    "    return Modified_Random_Selection"
   ]
  },
  {
   "cell_type": "code",
   "execution_count": null,
   "metadata": {
    "collapsed": true
   },
   "outputs": [],
   "source": [
    "def statistics(EDRandom_Selection):\n",
    "    d = {'CSOED': [CSOED_1]}\n",
    "    Solution = pd.DataFrame(d)\n",
    "    Lone_Parent = abs(Act_PARENT_LON - (EDRandom_Selection['PARENT_LON'].sum()/Ed_ENROLLED))\n",
    "    Rented = abs(Act_RENTED - (EDRandom_Selection['RENTED'].sum()/Ed_ENROLLED))\n",
    "    Unemployed = abs(Act_UNEMPLOYED - (EDRandom_Selection['UNEMPLOYED'].sum()/Ed_ENROLLED))\n",
    "    Tertiary = abs(Act_TERTIARY_P - (EDRandom_Selection['TERTIARY_P'].sum()/Ed_ENROLLED))\n",
    "    Solution['Small_Area'] = (EDRandom_Selection['SMALL_AREA'].sum()/Ed_ENROLLED)\n",
    "    Solution['Details'] = ((Lone_Parent+Rented+Unemployed+Tertiary)/4)\n",
    "    return Solution    \n",
    "        "
   ]
  },
  {
   "cell_type": "code",
   "execution_count": null,
   "metadata": {
    "collapsed": true
   },
   "outputs": [],
   "source": [
    "def accept_decision(probability):\n",
    "    return random.random() < probability"
   ]
  },
  {
   "cell_type": "markdown",
   "metadata": {},
   "source": [
    "### Main Body"
   ]
  },
  {
   "cell_type": "code",
   "execution_count": null,
   "metadata": {},
   "outputs": [],
   "source": [
    "for CSOED_1, group in grouped_school:\n",
    "    n = 0\n",
    "    r = 10\n",
    "    Alpha = 1.05\n",
    "    Single_Selection = pd.DataFrame()\n",
    "    Total_Random_Selections = pd.DataFrame()\n",
    "    Overall_Solution = pd.DataFrame()\n",
    "    Overall_Solution_Records = pd.DataFrame()\n",
    "    M_Random_Selections = pd.DataFrame()\n",
    "    M_Solutions = pd.DataFrame()\n",
    "    N_Random_Selections = pd.DataFrame()\n",
    "    N_Solutions = pd.DataFrame()\n",
    "    Selected_Students = pd.DataFrame()\n",
    "    print(\"declarations\")\n",
    "    for _ in range(r):\n",
    "        EDSelected_Students = pd.DataFrame()\n",
    "        S_Random_Selection = pd.DataFrame() \n",
    "        Ed_ENROLLED = 0\n",
    "        Selected_Schools = School_frame.loc[School_frame['CSOED_1'] == CSOED_1]\n",
    "        for index, row in Selected_Schools.iterrows():\n",
    "                #SETUP\n",
    "            Act_PARENT_LON = row['LONE_PAREN']\n",
    "            Act_RENTED = row['RENTED']\n",
    "            Act_UNEMPLOYED = row['NO_WORKERS']\n",
    "            Act_TERTIARY_P = row['TERTIARY_P']\n",
    "            ROLL_NO = row['ROLL_NO']\n",
    "            TOTAL_ENROLLED = int(row['FSL_TOTAL'])\n",
    "                #Random Selection\n",
    "            Selected_Students = Student_frame.loc[Student_frame['ROLL_NO'] == ROLL_NO]\n",
    "            EDSelected_Students = EDSelected_Students.append(Selected_Students)\n",
    "            print(len(Selected_Students.index))\n",
    "            if len(Selected_Students.index) < TOTAL_ENROLLED:\n",
    "                Random_Selection = Selected_Students.sample(n=TOTAL_ENROLLED,replace=True)\n",
    "            else:\n",
    "                Random_Selection = Selected_Students.sample(n=TOTAL_ENROLLED,replace=False)\n",
    "            S_Random_Selection = S_Random_Selection.append(Random_Selection)\n",
    "            Ed_ENROLLED = (Ed_ENROLLED + TOTAL_ENROLLED)\n",
    "        #print(\"SChool records gen\")\n",
    "        S_Solution = statistics(S_Random_Selection)\n",
    "        #S_Solution = statistics(S_Random_Selection, Ed_ENROLLED,School_frame,CSOED_1)\n",
    "        S_Solution['Counter'] = n\n",
    "        N_Solutions = N_Solutions.append(S_Solution, ignore_index=True)\n",
    "        S_Random_Selection['Counter'] = n\n",
    "        N_Random_Selections = N_Random_Selections.append(S_Random_Selection)\n",
    "        n=n+1\n",
    "    #print(\"ED records gen\")\n",
    "            #Solution Stats for this run\n",
    "    Total_Random_Selections = Total_Random_Selections.append(N_Random_Selections)\n",
    "        #with open('Selections.csv', 'a') as f:\n",
    "        #    Total_Random_Selections.to_csv(f, header=False)\n",
    "    M_Solutions = UpdateM(N_Solutions, M_Solutions)\n",
    "    if len(Selected_Students.index) == TOTAL_ENROLLED:\n",
    "        print(\"ED finished early\")\n",
    "    else:\n",
    "        #for _ in range(r):\n",
    "        for index, row in N_Solutions.iterrows():\n",
    "            CurrentN = pd.DataFrame()\n",
    "            T = 1\n",
    "            Lambda1 = 0.5\n",
    "            Lambda2 = 0.5\n",
    "            Count = int(row['Counter'])\n",
    "            #print(\"Solution\", Count)\n",
    "            Y_Selection = Total_Random_Selections.loc[Total_Random_Selections['Counter'] == Count]\n",
    "            while (T > 0.3):\n",
    "                #print(\"Temp\", T)\n",
    "                Y_Selection = swap_one()\n",
    "                Y_Selection['Counter'] = n\n",
    "                Y_Solution = statistics(Y_Selection)\n",
    "                Y_Solution['Counter'] = n\n",
    "                Total_Random_Selections = Total_Random_Selections.append(Y_Selection)\n",
    "                n = n+1\n",
    "                CurrentN = N_Solutions.loc[N_Solutions['Counter'] == Count]\n",
    "                if YvsS(Y_Solution, CurrentN):\n",
    "                    M_Solutions = UpdateM(Y_Solution, M_Solutions)\n",
    "                N_Solutions['test'] = (abs(N_Solutions['Small_Area'] - row['Small_Area']) + abs(N_Solutions['Details'] - row['Details']))\n",
    "                m = min(i for i in N_Solutions['test'] if i > 0)\n",
    "                Nearest_Neighbour = N_Solutions.loc[N_Solutions['test'] == m]\n",
    "                N_Solutions = N_Solutions.drop('test',1)\n",
    "                S_Small_Area = float(row['Small_Area'])\n",
    "                v= min(Nearest_Neighbour.index)\n",
    "                N_Small_Area = float(Nearest_Neighbour.loc[v]['Small_Area'])\n",
    "                S_Details = float(row['Details'])\n",
    "                N_Details = float(Nearest_Neighbour.loc[v]['Small_Area'])\n",
    "                if S_Small_Area >= N_Small_Area:\n",
    "                    Lambda1 = Lambda1*Alpha\n",
    "                else:\n",
    "                    Lambda1 = Lambda1/Alpha\n",
    "                if S_Details <= N_Details:\n",
    "                    Lambda2 = Lambda2*Alpha\n",
    "                else:\n",
    "                    Lambda2 = Lambda2/Alpha\n",
    "                Lambda1Norm = (Lambda1/Lambda1+Lambda2)\n",
    "                Lambda2Norm = (Lambda2/Lambda1+Lambda2)\n",
    "                Prob = math.exp(((Lambda1Norm*(S_Small_Area-N_Small_Area)) + (Lambda2Norm*(S_Details-N_Details)))/T)\n",
    "                Prob = min(1,Prob)\n",
    "                #print(Prob)\n",
    "                decision = accept_decision(Prob)\n",
    "                #print(decision)\n",
    "                if decision == True:\n",
    "                    N_Solutions.loc[index] = Y_Solution.loc[0]\n",
    "                    Y_Selection = Total_Random_Selections.loc[Total_Random_Selections['Counter'] == (n-1)]\n",
    "                    Count = n-1\n",
    "                T = T-0.02\n",
    "        #FInalise and pick one\n",
    "        Final_Random_Selections = Total_Random_Selections.loc[Total_Random_Selections['Counter'].isin(M_Solutions['Counter'])]\n",
    "        Total_Random_Selections= Total_Random_Selections.loc[Total_Random_Selections['Counter'].isin(N_Solutions['Counter'])]\n",
    "            #Total_Random_Selections= Total_Random_Selections.append(N_Random_Selections)\n",
    "            #gc.collect()\n",
    "        with open('selections.csv', 'a') as f:\n",
    "            Final_Random_Selections.to_csv(f, header=False)\n",
    "        with open('results.csv', 'a') as g:\n",
    "            M_Solutions.to_csv(g, header=False)\n",
    "        del M_Solutions\n",
    "        gc.collect()\n",
    "        print(CSOED_1, \" Finished\")  \n",
    "print(\"Finished\")    "
   ]
  },
  {
   "cell_type": "markdown",
   "metadata": {},
   "source": [
    "### Splitting FIle into smaller catchement "
   ]
  },
  {
   "cell_type": "code",
   "execution_count": null,
   "metadata": {
    "collapsed": true
   },
   "outputs": [],
   "source": [
    "for CSOED_1, group in grouped_school:\n",
    "    Selection = pd.DataFrame()\n",
    "    Students = pd.DataFrame()\n",
    "    TOTAL_ENROLLED = 0\n",
    "    Selected_Schools = School_frame.loc[School_frame['CSOED_1'] == CSOED_1]\n",
    "    for index, row in Selected_Schools.iterrows():\n",
    "        ROLL_NO = row['ROLL_NO']\n",
    "        S = Student_frame.loc[Student_frame['ROLL_NO'] == ROLL_NO]\n",
    "        Students = Students.append(S)\n",
    "        TOTAL_ENROLLED = TOTAL_ENROLLED + int(row['FSL_TOTAL'])\n",
    "        #print(TOTAL_ENROLLED)\n",
    "    Selection = Students.loc[Students['SMALL_AREA'] == 1]\n",
    "    Available = Students.loc[Students['SMALL_AREA'] == 0]\n",
    "    #Sampsize = int(abs(TOTAL_ENROLLED - len(Selection.index))*1.5)\n",
    "    #print(\"SEL\",len(Selection.index))\n",
    "    TOTAL_ENROLLED = int(TOTAL_ENROLLED*0.4)\n",
    "    if len(Available.index) > 0:\n",
    "        if len(Available.index) < TOTAL_ENROLLED:\n",
    "            Random_Selection = Available.sample(n=TOTAL_ENROLLED,replace=True)\n",
    "        else:\n",
    "            Random_Selection = Available.sample(n=TOTAL_ENROLLED,replace=False)\n",
    "        Selection = Selection.append(Random_Selection)\n",
    "    #print(\"SELALL\",len(Selection.index))\n",
    "    with open('reducedcatchment.csv', 'a') as f:\n",
    "        Selection.to_csv(f, header=False)\n",
    "    print(CSOED_1)\n",
    "\n",
    "print(\"Finished\")    "
   ]
  },
  {
   "cell_type": "markdown",
   "metadata": {},
   "source": [
    "### SELECT FINAL RESULTS RANDOMLY"
   ]
  },
  {
   "cell_type": "code",
   "execution_count": null,
   "metadata": {
    "collapsed": true
   },
   "outputs": [],
   "source": [
    "All = pd.DataFrame()\n",
    "Select_DBF = Dbf5('c:\\DATA\\Results.dbf')\n",
    "Select_frame = Select_DBF.to_dataframe()\n",
    "grouped_Select = Select_frame.groupby('CSOED')\n",
    "for CSOED, group in grouped_Select:\n",
    "    Selected = Select_frame.loc[Select_frame['CSOED'] == CSOED]\n",
    "    New1 = Selected.sample(n=1)\n",
    "    All = All.append(New1)\n",
    "All.to_csv('FinalSelection.csv', header=True)"
   ]
  },
  {
   "cell_type": "code",
   "execution_count": null,
   "metadata": {
    "collapsed": true
   },
   "outputs": [],
   "source": []
  }
 ],
 "metadata": {
  "kernelspec": {
   "display_name": "Python 3",
   "language": "python",
   "name": "python3"
  },
  "language_info": {
   "codemirror_mode": {
    "name": "ipython",
    "version": 3
   },
   "file_extension": ".py",
   "mimetype": "text/x-python",
   "name": "python",
   "nbconvert_exporter": "python",
   "pygments_lexer": "ipython3",
   "version": "3.6.1"
  }
 },
 "nbformat": 4,
 "nbformat_minor": 2
}
